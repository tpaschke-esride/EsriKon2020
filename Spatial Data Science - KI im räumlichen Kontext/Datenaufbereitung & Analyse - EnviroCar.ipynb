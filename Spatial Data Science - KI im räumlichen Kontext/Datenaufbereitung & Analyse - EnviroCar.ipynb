{
 "cells": [
  {
   "cell_type": "markdown",
   "metadata": {},
   "source": [
    "<center>\n",
    "<img src=\"https://wherenext.esri.de/wp-content/uploads/2019/02/Logo_CH_DE_Esri-800x130.png\"/>\n",
    "<h1> EsriKon 2020: Spatial Data Science - Datenaufbereitung mit ArcGIS Notebooks</h1>\n",
    "<br><br>"
   ]
  },
  {
   "cell_type": "markdown",
   "metadata": {},
   "source": [
    "# EnviroCar - Daten sammeln & analysieren\n"
   ]
  },
  {
   "cell_type": "markdown",
   "metadata": {
    "heading_collapsed": true
   },
   "source": [
    "### Mit GIS verbinden & Libraries laden:"
   ]
  },
  {
   "cell_type": "code",
   "execution_count": null,
   "metadata": {
    "hidden": true,
    "scrolled": true
   },
   "outputs": [],
   "source": [
    "from arcgis.gis import GIS\n",
    "gis = GIS(\"home\")"
   ]
  },
  {
   "cell_type": "code",
   "execution_count": null,
   "metadata": {
    "hidden": true,
    "scrolled": true
   },
   "outputs": [],
   "source": [
    "from arcgis.features import GeoAccessor, GeoSeriesAccessor\n",
    "from arcgis import env\n",
    "import requests"
   ]
  },
  {
   "cell_type": "markdown",
   "metadata": {
    "heading_collapsed": true
   },
   "source": [
    "### Daten mit Open Data API abfragen"
   ]
  },
  {
   "cell_type": "code",
   "execution_count": null,
   "metadata": {
    "hidden": true
   },
   "outputs": [],
   "source": [
    "tracks_overview = requests.get(\"https://envirocar.org/api/stable/tracks\").json()\n",
    "tracks_overview"
   ]
  },
  {
   "cell_type": "markdown",
   "metadata": {
    "heading_collapsed": true
   },
   "source": [
    "### Pandas"
   ]
  },
  {
   "cell_type": "markdown",
   "metadata": {
    "hidden": true
   },
   "source": [
    "<center>\n",
    "<img src=\"https://demoportal.esri.de/bilder/esrikon2020/pandas.gif\"/>\n",
    "</center>\n",
    "\n",
    "<img style=\"position: relative;left:33%;float:left\" src=\"https://miro.medium.com/proxy/1*93CVLqnQESmvfOhzvYUgQw.png\" width=200><img style=\"position: relative;left:38%;float:left\" src=\"https://upload.wikimedia.org/wikipedia/commons/thumb/e/ed/Pandas_logo.svg/1200px-Pandas_logo.svg.png\" width=200>\n",
    "<br><br><br><br><br><br>\n",
    "- Schnelle, flexible und aussagekräftige Datenstrukturen, welche die Arbeit mit relationalen Daten sowohl einfach als auch intuitiv macht.\n",
    "- Fühlt sich an wie Excel"
   ]
  },
  {
   "cell_type": "code",
   "execution_count": null,
   "metadata": {
    "hidden": true
   },
   "outputs": [],
   "source": [
    "import pandas as pd\n",
    "\n",
    "\n",
    "tracks_overview_df = pd.io.json.json_normalize(tracks_overview['tracks'])\n",
    "tracks_overview_df.head(10)"
   ]
  },
  {
   "cell_type": "markdown",
   "metadata": {
    "heading_collapsed": true
   },
   "source": [
    "### Datensätze Filtern"
   ]
  },
  {
   "cell_type": "code",
   "execution_count": null,
   "metadata": {
    "hidden": true
   },
   "outputs": [],
   "source": [
    "#tracks_overview_df[tracks_overview_df['sensor.properties.constructionYear'].eq(2014) & tracks_overview_df['sensor.properties.fuelType'].eq('diesel')]\n",
    "tracks_overview_df[tracks_overview_df['sensor.properties.fuelType'].eq('diesel') & \n",
    "                   tracks_overview_df['sensor.properties.constructionYear'].ge(2014) & #isin([2014,2015,2016,2017,2018,2019,2020])\n",
    "                   tracks_overview_df.length.ge(10)]"
   ]
  },
  {
   "cell_type": "code",
   "execution_count": null,
   "metadata": {
    "hidden": true
   },
   "outputs": [],
   "source": [
    "import requests\n",
    "car_id =\"5e5c9ff877e02d42aa93004f\"\n",
    "track = requests.get(\"https://envirocar.org/api/stable/tracks/\"+car_id).json()\n",
    "track"
   ]
  },
  {
   "cell_type": "markdown",
   "metadata": {
    "heading_collapsed": true
   },
   "source": [
    "### Datenstruktur anpassen (Flatten, Attribut Selection & Time)"
   ]
  },
  {
   "cell_type": "markdown",
   "metadata": {
    "heading_collapsed": true
   },
   "source": [
    "### Flatten"
   ]
  },
  {
   "cell_type": "code",
   "execution_count": null,
   "metadata": {
    "hidden": true,
    "scrolled": false
   },
   "outputs": [],
   "source": [
    "track_df = pd.io.json.json_normalize(track['features'])\n",
    "track_df['car_id'] = car_id\n",
    "track_df"
   ]
  },
  {
   "cell_type": "markdown",
   "metadata": {
    "heading_collapsed": true
   },
   "source": [
    "### Attribut auswahl"
   ]
  },
  {
   "cell_type": "code",
   "execution_count": null,
   "metadata": {
    "hidden": true,
    "scrolled": true
   },
   "outputs": [],
   "source": [
    "track_df[['x','y']] = pd.DataFrame(track_df['geometry.coordinates'].values.tolist())\n",
    "track_df = track_df[['car_id','properties.time','x','y']].copy()\n",
    "track_df.columns = ['id','time', 'x', 'y']\n",
    "track_df.head(5)"
   ]
  },
  {
   "cell_type": "markdown",
   "metadata": {
    "heading_collapsed": true,
    "hidden": true
   },
   "source": [
    "##### convert_time() Helferfunktion"
   ]
  },
  {
   "cell_type": "code",
   "execution_count": null,
   "metadata": {
    "hidden": true
   },
   "outputs": [],
   "source": [
    "#Helper function to convert Date String to Epoch Mili\n",
    "from datetime import datetime\n",
    "def convert_time(d):\n",
    "    p = '%Y-%m-%dT%H:%M:%SZ'\n",
    "    return int(datetime.strptime(d, p).timestamp()*1000)"
   ]
  },
  {
   "cell_type": "markdown",
   "metadata": {
    "heading_collapsed": true
   },
   "source": [
    "### Feature Set erstellen inkl. Zeitfeld umwandeln und Feldtyp anpassen"
   ]
  },
  {
   "cell_type": "code",
   "execution_count": null,
   "metadata": {
    "hidden": true,
    "scrolled": true
   },
   "outputs": [],
   "source": [
    "from arcgis.features import FeatureSet\n",
    "\n",
    "for index, row in track_df.iterrows():\n",
    "    track_df.loc[index,'time']=convert_time(track_df.loc[index,'time'])\n",
    "\n",
    "track_fs = FeatureSet.from_dataframe(track_df)\n",
    "for index, item in enumerate(track_fs.fields):\n",
    "    if item['name'] == 'time':\n",
    "        item['type'] = 'esriFieldTypeDate'"
   ]
  },
  {
   "cell_type": "code",
   "execution_count": null,
   "metadata": {
    "hidden": true
   },
   "outputs": [],
   "source": [
    "track_fs"
   ]
  },
  {
   "cell_type": "markdown",
   "metadata": {
    "heading_collapsed": true
   },
   "source": [
    "### Spatially Enabled Data Frame erstellen"
   ]
  },
  {
   "cell_type": "markdown",
   "metadata": {
    "hidden": true
   },
   "source": [
    "<center>\n",
    "<img src=\"https://demoportal.esri.de/bilder/esrikon2020/pandas_globe.png\" width=\"400\">\n",
    "</center>"
   ]
  },
  {
   "cell_type": "code",
   "execution_count": null,
   "metadata": {
    "hidden": true
   },
   "outputs": [],
   "source": [
    "track_sdf = pd.DataFrame.spatial.from_xy(track_fs.sdf,'x','y',sr=4326)\n",
    "track_sdf.head(5)"
   ]
  },
  {
   "cell_type": "markdown",
   "metadata": {
    "heading_collapsed": true
   },
   "source": [
    "### SDF Visualisieren"
   ]
  },
  {
   "cell_type": "code",
   "execution_count": null,
   "metadata": {
    "hidden": true,
    "scrolled": false
   },
   "outputs": [],
   "source": [
    "m = GIS().map(str(track_sdf.iloc[0]['x'])+','+str(track_sdf.iloc[0]['y']))\n",
    "m"
   ]
  },
  {
   "cell_type": "code",
   "execution_count": null,
   "metadata": {
    "hidden": true
   },
   "outputs": [],
   "source": [
    "track_sdf.spatial.plot(map_widget=m)"
   ]
  },
  {
   "cell_type": "markdown",
   "metadata": {
    "heading_collapsed": true
   },
   "source": [
    "### Feature Service publizieren"
   ]
  },
  {
   "cell_type": "code",
   "execution_count": null,
   "metadata": {
    "hidden": true
   },
   "outputs": [],
   "source": [
    "track_layer = track_sdf.spatial.to_featurelayer('EnviroCar_Track_Export')\n",
    "track_layer"
   ]
  },
  {
   "cell_type": "markdown",
   "metadata": {
    "heading_collapsed": true,
    "hidden": true
   },
   "source": [
    "##### Zeiteinstellung aktivieren"
   ]
  },
  {
   "cell_type": "code",
   "execution_count": null,
   "metadata": {
    "hidden": true
   },
   "outputs": [],
   "source": [
    "timeInfoObject = {\"timeInfo\": {\n",
    "    \"startTimeField\": \"time\",\n",
    "    \"endTimeField\": None,\n",
    "    \"trackIdField\": \"id\",\n",
    "    \"timeReference\": {\n",
    "        \"timeZone\": \"UTC\",\n",
    "        \"respectsDaylightSaving\": False\n",
    "    },\n",
    "    \"timeInterval\": 0,\n",
    "    \"timeIntervalUnits\": None,\n",
    "    \"exportOptions\": {\n",
    "        \"useTime\": False,\n",
    "        \"timeDataCumulative\": False,\n",
    "        \"timeOffset\": 0,\n",
    "        \"timeOffsetUnits\": \"esriTimeUnitsUnknown\"\n",
    "        },\n",
    "    \"hasLiveData\": False,\n",
    "    \"timeExtent\": [1580277349000,1580277753000]\n",
    "}}"
   ]
  },
  {
   "cell_type": "code",
   "execution_count": null,
   "metadata": {
    "hidden": true
   },
   "outputs": [],
   "source": [
    "track_layer.layers[0].manager.update_definition(timeInfoObject)"
   ]
  },
  {
   "cell_type": "code",
   "execution_count": null,
   "metadata": {
    "hidden": true
   },
   "outputs": [],
   "source": [
    "track_layer.layers[0].url"
   ]
  },
  {
   "cell_type": "markdown",
   "metadata": {
    "heading_collapsed": true
   },
   "source": [
    "### Features mit GeoAnalytics analisieren"
   ]
  },
  {
   "cell_type": "code",
   "execution_count": null,
   "metadata": {
    "hidden": true,
    "scrolled": false
   },
   "outputs": [],
   "source": [
    "from arcgis.geoanalytics.summarize_data import reconstruct_tracks\n",
    "analysis_result = reconstruct_tracks(track_layer.layers[0].url, \n",
    "                   track_fields='id', \n",
    "                   method = 'Geodesic',\n",
    "                   summary_fields = [],\n",
    "                   output_name = 'EnviroCar_Track_Export_Reconstructed_Tracks')"
   ]
  },
  {
   "cell_type": "code",
   "execution_count": null,
   "metadata": {
    "hidden": true
   },
   "outputs": [],
   "source": [
    "analysis_result_sdf = pd.DataFrame.spatial.from_layer(analysis_result.layers[0])\n",
    "analysis_result_sdf.spatial.plot(map_widget=m)\n",
    "m"
   ]
  }
 ],
 "metadata": {
  "esriNotebookRuntime": {
   "notebookRuntimeName": "ArcGIS Notebook Python 3 Standard",
   "notebookRuntimeVersion": "3.0"
  },
  "kernelspec": {
   "display_name": "Python 3",
   "language": "python",
   "name": "python3"
  },
  "language_info": {
   "codemirror_mode": {
    "name": "ipython",
    "version": 3
   },
   "file_extension": ".py",
   "mimetype": "text/x-python",
   "name": "python",
   "nbconvert_exporter": "python",
   "pygments_lexer": "ipython3",
   "version": "3.6.9"
  }
 },
 "nbformat": 4,
 "nbformat_minor": 2
}
