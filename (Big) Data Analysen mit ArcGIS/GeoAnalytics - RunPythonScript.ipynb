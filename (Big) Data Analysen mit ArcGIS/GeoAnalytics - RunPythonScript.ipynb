{
 "cells": [
  {
   "cell_type": "markdown",
   "metadata": {},
   "source": [
    "## GA - RunPythonScript Demo"
   ]
  },
  {
   "cell_type": "markdown",
   "metadata": {},
   "source": [
    "### Mit GIS verbinden:"
   ]
  },
  {
   "cell_type": "code",
   "execution_count": null,
   "metadata": {},
   "outputs": [],
   "source": [
    "from arcgis.gis import GIS\n",
    "gis = GIS(\"home\")"
   ]
  },
  {
   "cell_type": "markdown",
   "metadata": {},
   "source": [
    "### Layer für Analyse auswählen"
   ]
  },
  {
   "cell_type": "code",
   "execution_count": null,
   "metadata": {},
   "outputs": [],
   "source": [
    "input_layers = []"
   ]
  },
  {
   "cell_type": "code",
   "execution_count": null,
   "metadata": {},
   "outputs": [],
   "source": [
    "bdfs = gis.content.search('thpa_bdfs')[0]\n",
    "bdfs"
   ]
  },
  {
   "cell_type": "code",
   "execution_count": null,
   "metadata": {},
   "outputs": [],
   "source": [
    "bdfs.layers"
   ]
  },
  {
   "cell_type": "code",
   "execution_count": null,
   "metadata": {},
   "outputs": [],
   "source": [
    "input_layers.append(bdfs.layers[0])"
   ]
  },
  {
   "cell_type": "markdown",
   "metadata": {},
   "source": [
    "### Script als Datei zwischenspeichern"
   ]
  },
  {
   "cell_type": "code",
   "execution_count": null,
   "metadata": {},
   "outputs": [],
   "source": [
    "%%writefile tmp.py\n",
    "from pyspark.ml.feature import VectorAssembler\n",
    "from pyspark.ml.clustering import KMeans\n",
    "from datetime import datetime\n",
    "\n",
    "# Specify the URL to the input layer\n",
    "#bdfs_url = 'https://azure-portal-01.eggits.net/ga/rest/services/DataStoreCatalogs/bigDataFileShares_thpa_bdfs/BigDataCatalogServer/VBB'\n",
    "\n",
    "# Load the BDFS layer into a DataFrame\n",
    "#vbb_positions = spark.read.format(\"webgis\").load(bdfs_url)\n",
    "\n",
    "# Run Detect Incidents to find all train locations where delay status has increased\n",
    "exp = \"(!IsEmpty(TrackFieldWindow(\\\"rt\\\",-1,0)[0]) && ($feature[\\\"rt\\\"] - TrackFieldWindow(\\\"rt\\\",-1,0)[0] > 1))\"\n",
    "delay_incidents = geoanalytics.detect_incidents(input_layer = layers[0], track_fields = [\"i\"], start_condition_expression = exp, output_mode = \"Incidents\")\n",
    "\n",
    "# Combine the x and y columns in the DataFrame into a single column called \"features\"\n",
    "assembler = VectorAssembler(inputCols=[\"x\", \"y\"], outputCol=\"features\")\n",
    "delay_incidents = assembler.transform(delay_incidents)\n",
    "\n",
    "# Fit a k-means model with 20 clusters using the \"features\" column of the cdetected incidents\n",
    "kmeans = KMeans(k=20)\n",
    "model = kmeans.fit(delay_incidents.select(\"features\"))\n",
    "\n",
    "# Add the cluster labels from the k-means model to the original DataFrame\n",
    "delay_incidents_clusters = model.transform(delay_incidents)\n",
    "\n",
    "# Write the result DataFrame to the spatiotemporal big data store\n",
    "delay_incidents_clusters.write.format(\"webgis\").save(\"VBB_Delay_Cluster_{0}\".format(datetime.now().strftime(\"%m_%d_%Y_%H_%M_%S\")))"
   ]
  },
  {
   "cell_type": "markdown",
   "metadata": {},
   "source": [
    "### Datei als Text einlesen und in Variable speichern"
   ]
  },
  {
   "cell_type": "code",
   "execution_count": null,
   "metadata": {},
   "outputs": [],
   "source": [
    "from pathlib import Path\n",
    "code = Path('tmp.py').read_text()\n",
    "code"
   ]
  },
  {
   "cell_type": "markdown",
   "metadata": {},
   "source": [
    "### Variable an RunPythonScript schicken"
   ]
  },
  {
   "cell_type": "code",
   "execution_count": null,
   "metadata": {
    "scrolled": false
   },
   "outputs": [],
   "source": [
    "%time\n",
    "from arcgis.geoanalytics.manage_data import run_python_script\n",
    "\n",
    "run_python_script(code, layers=input_layers)"
   ]
  }
 ],
 "metadata": {
  "esriNotebookRuntime": {
   "notebookRuntimeName": "ArcGIS Notebook Python 3 Standard",
   "notebookRuntimeVersion": "3.0"
  },
  "kernelspec": {
   "display_name": "Python 3",
   "language": "python",
   "name": "python3"
  },
  "language_info": {
   "codemirror_mode": {
    "name": "ipython",
    "version": 3
   },
   "file_extension": ".py",
   "mimetype": "text/x-python",
   "name": "python",
   "nbconvert_exporter": "python",
   "pygments_lexer": "ipython3",
   "version": "3.6.9"
  }
 },
 "nbformat": 4,
 "nbformat_minor": 2
}
